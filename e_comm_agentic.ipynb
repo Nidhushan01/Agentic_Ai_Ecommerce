{
 "cells": [
  {
   "cell_type": "code",
   "execution_count": 2,
   "id": "08e6e6ea",
   "metadata": {},
   "outputs": [],
   "source": [
    "from IPython import get_ipython\n",
    "from IPython.display import display\n",
    "\n",
    "import openai\n",
    "import os\n",
    "from dotenv import load_dotenv\n",
    "from selenium import webdriver\n",
    "from selenium.webdriver.chrome.options import Options\n",
    "from bs4 import BeautifulSoup\n",
    "import time\n"
   ]
  },
  {
   "cell_type": "code",
   "execution_count": 3,
   "id": "96c2688e",
   "metadata": {},
   "outputs": [],
   "source": [
    "client = openai.OpenAI(api_key=os.getenv(\"OPENAI_API_KEY\"))"
   ]
  },
  {
   "cell_type": "code",
   "execution_count": 4,
   "id": "92a920bd",
   "metadata": {},
   "outputs": [],
   "source": [
    "def parse_user_input(user_input):\n",
    "    prompt = f\"\"\"\n",
    "Extract structured buying rules from this command.\n",
    "\n",
    "Command: \"{user_input}\"\n",
    "\n",
    "Return output only in JSON format like this:\n",
    "\n",
    "{{\n",
    "  \"product\": \"<product name>\",\n",
    "  \"platform\": \"Amazon\",\n",
    "  \"target_price\": 800.0,\n",
    "  \"min_seller_rating\": 4.0\n",
    "}}\n",
    "\n",
    "Respond only with valid JSON.\n",
    "\"\"\"\n",
    "\n",
    "\n",
    "    # Use the new client.chat.completions.create method\n",
    "    response = client.chat.completions.create(\n",
    "        model=\"gpt-3.5-turbo\",\n",
    "        messages=[{\"role\": \"user\", \"content\": prompt}],\n",
    "        temperature=0.3\n",
    "    )\n",
    "\n",
    "    # Access the content from the response object using dot notation\n",
    "    output = response.choices[0].message.content\n",
    "    print(\"🔍 Parsed Rules from OpenAI:\\n\", output)\n",
    "    return eval(output)"
   ]
  },
  {
   "cell_type": "code",
   "execution_count": 5,
   "id": "08744b94",
   "metadata": {},
   "outputs": [],
   "source": [
    "def get_product_data_amazon(url):\n",
    "    options = Options()\n",
    "    options.add_argument(\"--headless\")\n",
    "    options.add_argument(\"--no-sandbox\")\n",
    "    options.add_argument(\"--disable-dev-shm-usage\")\n",
    "    options.add_argument(f\"--user-data-dir=/tmp/unique-user-dir-{time.time()}\")  # ✅ avoids conflict\n",
    "\n",
    "    driver = None\n",
    "\n",
    "    try:\n",
    "        driver = webdriver.Chrome(options=options)\n",
    "        driver.get(url)\n",
    "\n",
    "        time.sleep(3)\n",
    "\n",
    "        soup = BeautifulSoup(driver.page_source, \"html.parser\")\n",
    "\n",
    "        try:\n",
    "            # Select multiple possible price elements\n",
    "            price_element = soup.select_one(\"#priceblock_ourprice, #priceblock_dealprice, .a-price-whole\")\n",
    "            if price_element:\n",
    "                 # Handle different price formats (e.g., the new '.a-price-whole' class)\n",
    "                price_text = price_element.get_text()\n",
    "                # Clean price text: remove currency symbols, commas, and potential trailing dots from whole number\n",
    "                price_text = price_text.replace('$', '').replace(',', '').strip()\n",
    "                # If the price_element was .a-price-whole, the fractional part might be in .a-price-fraction\n",
    "                fractional_element = price_element.find_next_sibling('.a-price-fraction')\n",
    "                if fractional_element:\n",
    "                    price_text += '.' + fractional_element.get_text().strip()\n",
    "\n",
    "                # Attempt conversion to float, handle potential errors\n",
    "                try:\n",
    "                    price = float(price_text)\n",
    "                except ValueError:\n",
    "                     price = None # Handle cases where conversion fails\n",
    "            else:\n",
    "                price = None # No price element found\n",
    "\n",
    "        except Exception as e: # Catch more general exceptions during price scraping\n",
    "            print(f\"Error scraping price: {e}\")\n",
    "            price = None\n",
    "\n",
    "        try:\n",
    "            # Select element containing star rating text\n",
    "            rating_element = soup.select_one(\"span.a-icon-alt\")\n",
    "            if rating_element:\n",
    "                rating_text = rating_element.get_text()\n",
    "                # Extract the first number from the rating text (e.g., \"4.5 out of 5 stars\")\n",
    "                try:\n",
    "                    rating = float(rating_text.split()[0])\n",
    "                except (ValueError, IndexError):\n",
    "                    rating = None # Handle cases where rating format is unexpected\n",
    "            else:\n",
    "                 rating = None # No rating element found\n",
    "\n",
    "        except Exception as e: # Catch more general exceptions during rating scraping\n",
    "            print(f\"Error scraping rating: {e}\")\n",
    "            rating = None\n",
    "\n",
    "        return {\"price\": price, \"rating\": rating}\n",
    "    except Exception as e:\n",
    "        # Catch the SessionNotCreatedException specifically or other potential errors during driver init/page load\n",
    "        print(f\"An error occurred during Selenium operation: {e}\")\n",
    "        return {\"price\": None, \"rating\": None} # Return None for price and rating on error\n",
    "    finally:\n",
    "        # Ensure driver is quit only if it was successfully initialized\n",
    "        if driver is not None:\n",
    "            driver.quit()"
   ]
  },
  {
   "cell_type": "code",
   "execution_count": 6,
   "id": "1b4eaf06",
   "metadata": {},
   "outputs": [
    {
     "name": "stdout",
     "output_type": "stream",
     "text": [
      "Enter your command (e.g., 'Track iPhone. Buy if under $800'): Track iPhone. Buy if under $800\n",
      "Enter product URL (Amazon): https://www.amazon.com/Apple-iPhone-14-128GB-Midnight/dp/B0BN72FYFG/ref=sr_1_1?dib=eyJ2IjoiMSJ9.Y6ERtAXi4bn8Q3Q1ZFAAuaJCwZbxrM1XDk23xQFfDKH_QRY2yrOBKk9WcJU6LseHciS6c4TXX0luShDRZeOdThd4tS9qehMAGlFZv8JCg7MM3rNrDrlBL4jD5D7iPnGoSrI3AHoLiIczD8TLha18EDfTaM13cMn85OrETdTIMNV75C_Z_FKusMFOeYxqtMEDEEB9y0TPsQn_sfv8mMpAEj0-gIhu80-0EkXJtmvVgmU.kQPSCYc2GWpBiQCbExahpwZnE27t6AxJXDAR41TPaMw&dib_tag=se&keywords=iphone&qid=1750348617&sr=8-1&th=1\n"
     ]
    }
   ],
   "source": [
    "user_command = input(\"Enter your command (e.g., 'Track iPhone. Buy if under $800'): \")\n",
    "product_url = input(\"Enter product URL (Amazon): \")\n"
   ]
  },
  {
   "cell_type": "code",
   "execution_count": 7,
   "id": "87756056",
   "metadata": {},
   "outputs": [
    {
     "name": "stdout",
     "output_type": "stream",
     "text": [
      "🔍 Parsed Rules from OpenAI:\n",
      " {\n",
      "  \"product\": \"iPhone\",\n",
      "  \"platform\": \"Amazon\",\n",
      "  \"target_price\": 800.0,\n",
      "  \"min_seller_rating\": 4.0\n",
      "}\n",
      "\n",
      "🛍️ Product Data from Amazon:\n",
      "{'price': 476.0, 'rating': 4.0}\n",
      "\n",
      "🤖 Decision: ✅ BUY\n"
     ]
    }
   ],
   "source": [
    "rules = parse_user_input(user_command)\n",
    "product_data = get_product_data_amazon(product_url)\n",
    "\n",
    "print(\"\\n🛍️ Product Data from Amazon:\")\n",
    "print(product_data)\n",
    "\n",
    "decision = \"Do Not Buy\"\n",
    "if product_data[\"price\"] and product_data[\"rating\"]:\n",
    "    if (product_data[\"price\"] <= rules[\"target_price\"] and\n",
    "        product_data[\"rating\"] >= rules[\"min_seller_rating\"]):\n",
    "        decision = \"✅ BUY\"\n",
    "    else:\n",
    "        decision = \"❌ DO NOT BUY\"\n",
    "\n",
    "print(\"\\n🤖 Decision:\", decision)"
   ]
  },
  {
   "cell_type": "code",
   "execution_count": null,
   "id": "ad09b0ef",
   "metadata": {},
   "outputs": [],
   "source": []
  }
 ],
 "metadata": {
  "kernelspec": {
   "display_name": "Python 3 (ipykernel)",
   "language": "python",
   "name": "python3"
  },
  "language_info": {
   "codemirror_mode": {
    "name": "ipython",
    "version": 3
   },
   "file_extension": ".py",
   "mimetype": "text/x-python",
   "name": "python",
   "nbconvert_exporter": "python",
   "pygments_lexer": "ipython3",
   "version": "3.11.4"
  }
 },
 "nbformat": 4,
 "nbformat_minor": 5
}
